{
 "cells": [
  {
   "cell_type": "markdown",
   "metadata": {},
   "source": [
    "# Cache Place Field Computations"
   ]
  },
  {
   "cell_type": "markdown",
   "metadata": {},
   "source": [
    "## Imports"
   ]
  },
  {
   "cell_type": "code",
   "execution_count": null,
   "metadata": {},
   "outputs": [],
   "source": [
    "%load_ext autoreload\n",
    "%autoreload 2\n",
    "import yaml\n",
    "from pathlib import Path\n",
    "\n",
    "import linear2ac\n",
    "import linear2ac.cluster.placefield\n",
    "\n",
    "from vr2p.settings import parse_settings, parse_data_info, select_settings_file"
   ]
  },
  {
   "cell_type": "markdown",
   "metadata": {},
   "source": [
    "# Section 1: Load general settings file\n",
    "\n",
    "Select the general settings file that contains the processing parameters"
   ]
  },
  {
   "cell_type": "code",
   "execution_count": null,
   "metadata": {},
   "outputs": [],
   "source": [
    "fc_settings = select_settings_file()"
   ]
  },
  {
   "cell_type": "code",
   "execution_count": null,
   "metadata": {},
   "outputs": [],
   "source": [
    "settings = parse_settings(fc_settings.selected)"
   ]
  },
  {
   "cell_type": "markdown",
   "metadata": {},
   "source": [
    "# Section 2: Load animal data info file\n",
    "\n",
    "Select settings file that contains the animal and data info."
   ]
  },
  {
   "cell_type": "code",
   "execution_count": null,
   "metadata": {},
   "outputs": [],
   "source": [
    "fc_data = select_settings_file(fc_settings.selected_path)"
   ]
  },
  {
   "cell_type": "code",
   "execution_count": null,
   "metadata": {},
   "outputs": [],
   "source": [
    "data_info = parse_data_info(fc_data.selected)"
   ]
  },
  {
   "cell_type": "markdown",
   "metadata": {},
   "source": [
    "# Section 3: Load place field settings file\n",
    "\n",
    "Select the configuration file that contains the place field computation\n",
    "parameters"
   ]
  },
  {
   "cell_type": "code",
   "execution_count": null,
   "metadata": {},
   "outputs": [],
   "source": [
    "with open('/workdir/cbsuwsun/2ACDC_parse/cluster_files/placefield_settings.yml', 'r') as f:\n",
    "    pf_settings = yaml.safe_load(f)\n",
    "\n",
    "pf_settings"
   ]
  },
  {
   "cell_type": "code",
   "execution_count": null,
   "metadata": {},
   "outputs": [],
   "source": [
    "pf_settings['server']['password'] = input('Enter password: ')"
   ]
  },
  {
   "cell_type": "markdown",
   "metadata": {},
   "source": [
    "## Section 4: Submit individual jobs for each session and condition"
   ]
  },
  {
   "cell_type": "code",
   "execution_count": null,
   "metadata": {},
   "outputs": [],
   "source": [
    "linear2ac.cluster.placefield.run_placefield_cluster(\n",
    "    str(Path(data_info[\"data\"][\"local_processed_root\"])/data_info[\"data\"][\"output_folder\"]/\"vr2p.zarr\"),\n",
    "    str(Path(data_info[\"data\"][\"local_processed_root\"])/data_info[\"data\"][\"output_folder\"]/\"vr2p.zarr\"),\n",
    "    str(Path(data_info[\"data\"][\"local_processed_root\"])/data_info[\"data\"][\"output_folder\"]/\"placefield.zarr\"),\n",
    "    str(Path(data_info[\"data\"][\"local_processed_root\"])/data_info[\"data\"][\"output_folder\"]/\"placefield.zarr\"),\n",
    "    '/workdir/cbsuwsun/2ACDC_parse/cluster_files/placefield_settings.yml',\n",
    "    pf_settings,\n",
    "    force_recalc=True,\n",
    "    jobargs='--mem=10000'\n",
    ")"
   ]
  },
  {
   "cell_type": "markdown",
   "metadata": {},
   "source": [
    "---"
   ]
  }
 ],
 "metadata": {
  "language_info": {
   "name": "python"
  }
 },
 "nbformat": 4,
 "nbformat_minor": 2
}
